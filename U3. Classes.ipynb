{
 "cells": [
  {
   "cell_type": "code",
   "execution_count": 7,
   "metadata": {},
   "outputs": [],
   "source": [
    "# %run \"Imports.ipynb\""
   ]
  },
  {
   "cell_type": "code",
   "execution_count": 11,
   "metadata": {},
   "outputs": [],
   "source": [
    "# Read in any matchup file to identify columns\n",
    "test_path = r\"C:\\Users\\james\\Documents\\MLB\\Database\\B01. Matchups\\Matchups 85143\\CIN@ATL 04112023 0720PM ET.xlsx\""
   ]
  },
  {
   "cell_type": "code",
   "execution_count": 31,
   "metadata": {},
   "outputs": [],
   "source": [
    "# Read in batters\n",
    "batter_df = pd.read_excel(test_path, sheet_name = \"AwayBatters\")\n",
    "\n",
    "# Extract column names\n",
    "batter_columns = batter_df.columns.tolist()\n",
    "\n",
    "# Read in pitchers\n",
    "pitcher_df = pd.read_excel(test_path, sheet_name = \"AwayPitchers\")\n",
    "\n",
    "# Extract column names\n",
    "pitcher_columns = pitcher_df.columns.tolist()"
   ]
  },
  {
   "cell_type": "code",
   "execution_count": 34,
   "metadata": {},
   "outputs": [],
   "source": [
    "class Batter:\n",
    "    def __init__(self, **kwargs):\n",
    "        for column in batter_columns:\n",
    "            setattr(self, column, kwargs.get(column, None))\n",
    "            \n",
    "        # DK stats    \n",
    "        self.HBP = 0\n",
    "        self.BB = 0\n",
    "        self.B1 = 0\n",
    "        self.B2 = 0\n",
    "        self.B3 = 0\n",
    "        self.HR = 0\n",
    "        self.SB = 0\n",
    "        self.R = 0\n",
    "        self.RBI = 0\n",
    "        self.FP = 0"
   ]
  },
  {
   "cell_type": "code",
   "execution_count": 36,
   "metadata": {},
   "outputs": [],
   "source": [
    "class Pitcher:\n",
    "    def __init__(self, **kwargs):\n",
    "        for column in pitcher_columns:\n",
    "            setattr(self, column, kwargs.get(column, None))\n",
    "            \n",
    "        # DK stats\n",
    "        self.winning = False\n",
    "        self.OUT = 0\n",
    "        self.SO = 0\n",
    "        self.HBP = 0\n",
    "        self.BB = 0\n",
    "        self.B1 = 0\n",
    "        self.B2 = 0\n",
    "        self.B3 = 0\n",
    "        self.HR = 0\n",
    "        self.H = 0\n",
    "        self.CS = 0\n",
    "        self.ER = 0\n",
    "        self.W = 0\n",
    "        self.CG = 0\n",
    "        self.CGSO = 0\n",
    "        self.NH = 0\n",
    "        self.FP = 0\n",
    "        self.PA = 0\n",
    "        \n",
    "        self.faced = 1\n",
    "        self.starter = 0"
   ]
  },
  {
   "cell_type": "code",
   "execution_count": 1,
   "metadata": {},
   "outputs": [],
   "source": [
    "class Scoreboard:\n",
    "    def __init__(self, away_batters, home_batters, away_pitchers, home_pitchers, innings):\n",
    "        # Player objects\n",
    "        self.away_batters = away_batters\n",
    "        self.home_batters = home_batters\n",
    "        self.away_pitchers = away_pitchers\n",
    "        self.home_pitchers = home_pitchers\n",
    "        \n",
    "        # Score\n",
    "        self.away_score = 0\n",
    "        self.home_score = 0\n",
    "        self.winning_team = \"Tie\"\n",
    "        \n",
    "        # Inning state\n",
    "        self.innings = innings\n",
    "        self.inning = 1\n",
    "        self.top_bot = \"Top\"\n",
    "        self.outs = 0\n",
    "        \n",
    "        # Current player vs player matchup\n",
    "        self.ab = None\n",
    "        self.pitching = None\n",
    "        \n",
    "        # Base states\n",
    "        # Player\n",
    "        self.on_1b = None\n",
    "        self.on_2b = None\n",
    "        self.on_3b = None\n",
    "        # Binary\n",
    "        self.onFirst = 0\n",
    "        self.onSecond = 0\n",
    "        self.onThird = 0\n",
    "\n",
    "        # Batter order\n",
    "        self.away_order = 1\n",
    "        self.home_order = 1\n",
    "        \n",
    "        # Pitcher leverage\n",
    "        self.away_leverage = 1\n",
    "        self.home_leverage = 1\n",
    "        # Pitchers currently up\n",
    "        self.away_pitcher_up = None\n",
    "        self.home_pitcher_up = None\n",
    "        # Starters have been pulled\n",
    "        self.away_starter_pulled = False\n",
    "        self.home_starter_pulled = False\n",
    "        # Starters\n",
    "        self.away_starter = None\n",
    "        self.home_starter = None\n",
    "        # Pitcher currently in line for win\n",
    "        self.winning_pitcher = None\n",
    "        \n",
    "        # Create venue binaries\n",
    "        for venue in venues:\n",
    "            setattr(self, f'{venue}', 0)"
   ]
  },
  {
   "cell_type": "code",
   "execution_count": null,
   "metadata": {},
   "outputs": [],
   "source": []
  }
 ],
 "metadata": {
  "kernelspec": {
   "display_name": "Python 3 (ipykernel)",
   "language": "python",
   "name": "python3"
  },
  "language_info": {
   "codemirror_mode": {
    "name": "ipython",
    "version": 3
   },
   "file_extension": ".py",
   "mimetype": "text/x-python",
   "name": "python",
   "nbconvert_exporter": "python",
   "pygments_lexer": "ipython3",
   "version": "3.9.12"
  }
 },
 "nbformat": 4,
 "nbformat_minor": 4
}
