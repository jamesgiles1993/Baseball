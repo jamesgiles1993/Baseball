{
 "cells": [
  {
   "cell_type": "markdown",
   "id": "3a8a8409-11cb-4b7c-bd45-02c7f7e4fbcc",
   "metadata": {},
   "source": [
    "# A04. Bullpens\n",
    "Sources: \n",
    "- Team pages on mlb.com\n",
    "- Wayback Machine (if necessary)"
   ]
  },
  {
   "cell_type": "code",
   "execution_count": 21,
   "id": "c2304ae3-fe68-4119-8dba-19fa31d0ca88",
   "metadata": {},
   "outputs": [],
   "source": [
    "# This scrapes the bullpen depth chart for teams via their website or via the Wayback Machine\n",
    "# Top reliever will be the closer. Usually other high-leverage pitchers will be near top\n",
    "# Need this header to trick site into thinking this isn't a scrape\n",
    "header = {\n",
    "  \"User-Agent\": \"Mozilla/5.0 (X11; Linux x86_64) AppleWebKit/537.36 (KHTML, like Gecko) Chrome/50.0.2661.75 Safari/537.36\",\n",
    "  \"X-Requested-With\": \"XMLHttpRequest\"\n",
    "    }\n",
    "\n",
    "# Extract bullpen information from MLB.com depth charts\n",
    "def scrape_bullpen(mlburl, header, abbrev, date=None):\n",
    "    # URL\n",
    "    # url = f\"https://web.archive.org/web/{date}/https://www.mlb.com/{mlburl}/roster/depth-chart\"\n",
    "    url = f\"https://www.mlb.com/{mlburl}/roster/depth-chart\"\n",
    "    \n",
    "    # Get data from URL\n",
    "    r = requests.get(url, headers=header)\n",
    "    dfs = pd.read_html(r.text, encoding='iso-8859-1')\n",
    "    # Bullpen can be one of two tables\n",
    "    try:\n",
    "        df = dfs[2]\n",
    "        # Remove if they're on IL\n",
    "        df = df[df[\"Bullpen.1\"].str.contains(\"IL-\")==False].reset_index()\n",
    "        # Or in the minors\n",
    "        df = df[df[\"Bullpen.1\"].str.contains(\" Minors\")==False].reset_index()\n",
    "    except:\n",
    "        df = dfs[1]\n",
    "        df = df[df[\"Bullpen.1\"].str.contains(\"IL-\")==False].reset_index()  \n",
    "        df = df[df[\"Bullpen.1\"].str.contains(\" Minors\")==False].reset_index()\n",
    "        \n",
    "    # Assume leverage is 0 (these pitchers will never come into a game, reserved for SPs on days off)\n",
    "    df['Leverage'] = 0\n",
    "    # Loop through rows\n",
    "    for i in range(len(df)):\n",
    "        # The top guy should be the closer\n",
    "        if i == 0:\n",
    "            df['Leverage'][i] = 4\n",
    "        # Then the next five are set up/high leverage\n",
    "        elif i < 4:\n",
    "            df['Leverage'][i] = 3\n",
    "        # Then low leverage\n",
    "        elif i < 11:\n",
    "            df['Leverage'][i] = 2\n",
    "\n",
    "    # Extract name from column Bullpen.1\n",
    "    df[['Name', 'drop']] = df['Bullpen.1'].str.split(\"B/T\", expand=True)\n",
    "    # Remove numbers\n",
    "    df['Name'] = df['Name'].str.replace('\\d+', '')\n",
    "    # Remove closer tag\n",
    "    df['Name'] = df['Name'].str.replace(\"\\(CL\\)\", '')\n",
    "    \n",
    "    # Clean name\n",
    "    df['Name'] = df.apply(lambda x: remove_accents(x['Name']), axis=1)  # remove accents\n",
    "    df['Name'] = df['Name'].str.strip()\n",
    "    \n",
    "    # Keep Name, Bats/Throws, Leverage\n",
    "    df = df[['Name', 'B/T', 'Leverage']]\n",
    "    \n",
    "    # Date\n",
    "    df['date'] = date\n",
    "    # Baseball Reference team abbreviation\n",
    "    df['BBREFTEAM'] = abbrev\n",
    "    \n",
    "    return df"
   ]
  },
  {
   "cell_type": "code",
   "execution_count": null,
   "id": "89f4bb9a-9ff0-4511-adb1-1c9ac8913f30",
   "metadata": {},
   "outputs": [],
   "source": []
  }
 ],
 "metadata": {
  "kernelspec": {
   "display_name": "Python 3 (ipykernel)",
   "language": "python",
   "name": "python3"
  },
  "language_info": {
   "codemirror_mode": {
    "name": "ipython",
    "version": 3
   },
   "file_extension": ".py",
   "mimetype": "text/x-python",
   "name": "python",
   "nbconvert_exporter": "python",
   "pygments_lexer": "ipython3",
   "version": "3.9.12"
  }
 },
 "nbformat": 4,
 "nbformat_minor": 5
}
