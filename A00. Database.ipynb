{
 "cells": [
  {
   "cell_type": "code",
   "execution_count": 1,
   "id": "24f84726-80cc-42bc-87e6-b6e80059f9bf",
   "metadata": {},
   "outputs": [
    {
     "name": "stdout",
     "output_type": "stream",
     "text": [
      "Code was last run on: 2023-11-04\n"
     ]
    }
   ],
   "source": [
    "%run \"U1. Imports.ipynb\"\n",
    "%run \"U2. Utilities.ipynb\"\n",
    "%run \"U3. Classes.ipynb\"\n",
    "%run \"D3. Simulation Functions.ipynb\"\n",
    "\n",
    "baseball_path = r'C:\\Users\\james\\Documents\\MLB\\Database'"
   ]
  },
  {
   "cell_type": "code",
   "execution_count": 2,
   "id": "ae3025cf-f478-44b2-8edd-e2f8f70fa256",
   "metadata": {},
   "outputs": [],
   "source": [
    "db_path = r'C:\\Users\\james\\Documents\\MLB\\Database\\MLBDB.db'\n",
    "engine = create_engine(f'sqlite:///{db_path}')"
   ]
  },
  {
   "cell_type": "code",
   "execution_count": 3,
   "id": "44c1b82f-e5ad-48b4-9bd1-d1391dea8058",
   "metadata": {},
   "outputs": [
    {
     "data": {
      "text/plain": [
       "'20231104'"
      ]
     },
     "execution_count": 3,
     "metadata": {},
     "output_type": "execute_result"
    }
   ],
   "source": [
    "todaysdate"
   ]
  },
  {
   "cell_type": "markdown",
   "id": "a9cebbc7-bcf4-4db4-955f-038bba0fc22f",
   "metadata": {},
   "source": [
    "### A01. DraftKings"
   ]
  },
  {
   "cell_type": "code",
   "execution_count": null,
   "id": "aadd3b84-4c5a-46cd-9ff4-9c51c65dbb78",
   "metadata": {},
   "outputs": [],
   "source": [
    "%run \"A01. DraftKings.ipynb\""
   ]
  },
  {
   "cell_type": "markdown",
   "id": "cb275c86-b9c9-4b04-b37b-b36a3520a5ef",
   "metadata": {},
   "source": [
    "##### 1. Contests"
   ]
  },
  {
   "cell_type": "code",
   "execution_count": null,
   "id": "f6ae4270-ef4f-449e-be04-765aff6ec06a",
   "metadata": {},
   "outputs": [],
   "source": [
    "# Scrape contests\n",
    "contest_df = contests(todaysdate)\n",
    "# To csv\n",
    "contest_df.to_csv(os.path.join(baseball_path, 'A01. DraftKings', '1. Contests', f'Contests {todaysdate}.csv'), index=False)\n",
    "# To database\n",
    "contest_df.to_sql(f'Contests {todaysdate}', con=engine, index=False, if_exists='replace')"
   ]
  },
  {
   "cell_type": "code",
   "execution_count": null,
   "id": "c789173b-63c0-4968-9df0-0b81097227dc",
   "metadata": {},
   "outputs": [],
   "source": [
    "# Select contests of interest\n",
    "subset_df = contest_df[(contest_df['Name'].str.contains('Four-Seamer')) & (~contest_df['Name'].str.contains('Turbo|vs'))].reset_index(drop=True)\n",
    "print(subset_df.to_string())"
   ]
  },
  {
   "cell_type": "markdown",
   "id": "5fbf72d5-ff3b-4784-9e00-07d778c1a769",
   "metadata": {},
   "source": [
    "##### 2. Draftables"
   ]
  },
  {
   "cell_type": "code",
   "execution_count": null,
   "id": "f0ad4276-711b-420b-b6f3-1f42af51c5f6",
   "metadata": {},
   "outputs": [],
   "source": [
    "# Loop over contests of interest\n",
    "for i in range(len(subset_df)):\n",
    "    # Extract draftGroupId\n",
    "    draftGroupId = subset_df['draftGroupId'][i]\n",
    "    try:\n",
    "        # Scrape draftables (DK Salaries)\n",
    "        draftable_df = draftables(draftGroupId)\n",
    "        # To csv\n",
    "        draftable_df.to_csv(os.path.join(baseball_path, \"A01. DraftKings\", \"2. Draftables\", f\"Draftables {draftGroupId}.csv\"), index=False, encoding='iso-8859-1')\n",
    "        # To database\n",
    "        draftable_df.to_sql(f'Draftables {draftGroupId}', con=engine, index=False, if_exists='replace')\n",
    "        print(f\"Saved {subset_df['draftGroupId'][i]}\")\n",
    "    except:\n",
    "        print(f\"Didn't save {subset_df['draftGroupId'][i]}\")"
   ]
  },
  {
   "cell_type": "markdown",
   "id": "7b724377-8686-4315-a159-2ce0671578f4",
   "metadata": {},
   "source": [
    "##### 3. Payouts"
   ]
  },
  {
   "cell_type": "code",
   "execution_count": null,
   "id": "681dafd0-ee24-439f-88c7-918a08283cf0",
   "metadata": {},
   "outputs": [],
   "source": [
    "# Loop over contests of interest\n",
    "for i in range(len(subset_df)):\n",
    "    # Extract contestKey\n",
    "    contestKey = subset_df['contestKey'][i]\n",
    "    # Scrape payouts\n",
    "    payout_df = payouts(contestKey)\n",
    "    # To csv\n",
    "    payout_df.to_csv(os.path.join(baseball_path, \"A01. DraftKings\", \"3. Payouts\", f\"Payouts {contestKey}.csv\"), index=False, encoding='iso-8859-1')\n",
    "    # To database\n",
    "    payout_df.to_sql(f'Payouts {contestKey}', con=engine, index=False, if_exists='replace')"
   ]
  },
  {
   "cell_type": "markdown",
   "id": "121f0fa0-29c3-4721-9541-cd2d8f0df9a7",
   "metadata": {},
   "source": [
    "##### 4. Results"
   ]
  },
  {
   "cell_type": "code",
   "execution_count": null,
   "id": "7490850b-4220-4e38-9ff9-b2659a5cc59c",
   "metadata": {},
   "outputs": [],
   "source": [
    "# Read in yesterday's contest \n",
    "# yesterdays_contest_df = pd.read_csv(os.path.join(baseball_path, 'A01. DraftKings', '1. Contests', f'Contests {yesterdaysdate}.csv'))\n",
    "sql_query = f'SELECT * FROM \"Contests {yesterdaysdate}\"'\n",
    "yesterdays_contest_df = pd.read_sql_query(sql_query, con=engine)\n",
    "\n",
    "# Select contests of interest\n",
    "yesterdays_subset_df = yesterdays_contest_df[(yesterdays_contest_df['Name'].str.contains('Four-Seamer')) & (~yesterdays_contest_df['Name'].str.contains('Turbo|vs'))].reset_index(drop=True)\n",
    "print(yesterdays_subset_df.to_string())"
   ]
  },
  {
   "cell_type": "markdown",
   "id": "cd338eaf-fa27-49fb-94fd-2adc273b7f70",
   "metadata": {},
   "source": [
    "##### 5. Entry Results and 6. Player Results"
   ]
  },
  {
   "cell_type": "code",
   "execution_count": null,
   "id": "5ec3c643-b9cd-4581-9bd5-706540eadbad",
   "metadata": {},
   "outputs": [],
   "source": [
    "# Loop over yesterday's contests\n",
    "for i in range(len(yesterdays_subset_df)):\n",
    "    # Extract contestKey\n",
    "    contestKey = yesterdays_subset_df['contestKey'][i]\n",
    "    print(contestKey)\n",
    "    # Scrape results\n",
    "    results(contestKey)\n",
    "    time.sleep(15)\n",
    "    # Read into pandas\n",
    "    results_df = pd.read_csv(os.path.join(baseball_path, \"A01. DraftKings\", \"4. Results\", f\"contest-standings-{contestKey}.csv\"))\n",
    "    \n",
    "    # Entry results\n",
    "    entry_results_df = entry_results(results_df)\n",
    "    entry_results_df.to_csv(os.path.join(baseball_path, \"A01. DraftKings\", \"5. Entry Results\", f\"Entry Results {contestKey}.csv\"), index=False, encoding='iso-8859-1')\n",
    "    entry_results_df.to_sql(f'Entry Results {contestKey}', con=engine, index=False, if_exists='replace')\n",
    "    # Player results\n",
    "    player_results_df = player_results(results_df)\n",
    "    player_results_df.to_csv(os.path.join(baseball_path, \"A01. DraftKings\", \"6. Player Results\", f\"Player Results {contestKey}.csv\"), index=False, encoding='iso-8859-1')\n",
    "    player_results_df.to_sql(f'Player Results {contestKey}', con=engine, index=False, if_exists='replace')"
   ]
  },
  {
   "cell_type": "code",
   "execution_count": null,
   "id": "a9aaca6f-5ba1-4318-8e39-2f4f29c70bec",
   "metadata": {},
   "outputs": [],
   "source": []
  },
  {
   "cell_type": "markdown",
   "id": "288b25e3-86fa-44fd-9f3a-3281862aec7f",
   "metadata": {},
   "source": [
    "### A02. MLB API"
   ]
  },
  {
   "cell_type": "code",
   "execution_count": 4,
   "id": "d57029bf-f585-4623-87b1-20b96a68132c",
   "metadata": {},
   "outputs": [],
   "source": [
    "%run \"A02. MLB API.ipynb\""
   ]
  },
  {
   "cell_type": "markdown",
   "id": "8878027b-3564-47f2-b4eb-16bcee8617c7",
   "metadata": {},
   "source": [
    "##### 1. Stats API "
   ]
  },
  {
   "cell_type": "code",
   "execution_count": 5,
   "id": "492fc41b-199e-4e13-86b6-f204eff07b6a",
   "metadata": {},
   "outputs": [],
   "source": [
    "statsapi_df = plays_statsapi(\"03/29/2023\", \"11/15/2023\")\n",
    "statsapi_df.to_csv(os.path.join(baseball_path, \"A02. MLB API\", \"1. Stats API\", \"Stats API 2023.csv\"), index=False, encoding='iso-8859-1')\n",
    "statsapi_df.astype('str').to_sql('Stats API 2023', con=engine, index=False, if_exists='replace')\n",
    "del statsapi_df"
   ]
  },
  {
   "cell_type": "markdown",
   "id": "5253cf2b-999c-4b31-8bbc-eb90c7670ac1",
   "metadata": {},
   "source": [
    "##### 2. Statcast"
   ]
  },
  {
   "cell_type": "code",
   "execution_count": 6,
   "id": "94ba7f62-f700-4a81-9454-7a500d785501",
   "metadata": {},
   "outputs": [
    {
     "name": "stdout",
     "output_type": "stream",
     "text": [
      "This is a large query, it may take a moment to complete\n"
     ]
    },
    {
     "name": "stderr",
     "output_type": "stream",
     "text": [
      "100%|██████████| 246/246 [03:25<00:00,  1.20it/s]\n"
     ]
    }
   ],
   "source": [
    "statcast_df = plays_statcast(\"2023-03-15\", \"2023-11-15\")\n",
    "statcast_df.to_csv(os.path.join(baseball_path, \"A02. MLB API\", \"2. Statcast\", \"Statcast 2023.csv\"), index=False, encoding='iso-8859-1')\n",
    "statcast_df.astype('str').to_sql('Statcast 2023', con=engine, index=False, if_exists='replace')\n",
    "del statcast_df"
   ]
  },
  {
   "cell_type": "markdown",
   "id": "1f6c27a8-a7d0-424d-83ce-52435617b7f1",
   "metadata": {},
   "source": [
    "##### 3. Dataset"
   ]
  },
  {
   "cell_type": "code",
   "execution_count": 5,
   "id": "4c3cf87b-9c3f-4902-b5a7-3b667f4492d6",
   "metadata": {},
   "outputs": [
    {
     "name": "stdout",
     "output_type": "stream",
     "text": [
      "CPU times: total: 10min 26s\n",
      "Wall time: 26min 5s\n"
     ]
    },
    {
     "data": {
      "text/plain": [
       "1597990"
      ]
     },
     "execution_count": 5,
     "metadata": {},
     "output_type": "execute_result"
    }
   ],
   "source": [
    "%%time\n",
    "complete_dataset = create_inputs(start_year=2015, end_year=2023, short=50, long=300)\n",
    "complete_dataset[model_inputs_plus].to_sql('Dataset', con=engine, index=False, if_exists='replace')\n",
    "# del complete_dataset"
   ]
  },
  {
   "cell_type": "markdown",
   "id": "89828567-3ca9-4337-9389-499a3632c135",
   "metadata": {},
   "source": [
    "### A03. Steamer"
   ]
  },
  {
   "cell_type": "code",
   "execution_count": 14,
   "id": "464b4338-5dbd-4b7a-a201-20072294c9ed",
   "metadata": {},
   "outputs": [],
   "source": [
    "%run \"A03. Steamer.ipynb\""
   ]
  },
  {
   "cell_type": "code",
   "execution_count": 15,
   "id": "fe2afcb3-00a3-44d7-b74a-2b01f0e5fda0",
   "metadata": {},
   "outputs": [
    {
     "data": {
      "application/javascript": [
       "window.open('http://www.steamerprojections.com/index.php/projections/historical-weekly-logs', '_blank');"
      ],
      "text/plain": [
       "<IPython.core.display.Javascript object>"
      ]
     },
     "metadata": {},
     "output_type": "display_data"
    },
    {
     "name": "stdout",
     "output_type": "stream",
     "text": [
      "Moved 'C:\\Users\\james\\Downloads\\steamer_pitchers_weekly_log.csv' to 'C:\\Users\\james\\Documents\\MLB\\Database\\A03. Steamer'.\n",
      "Moved 'C:\\Users\\james\\Downloads\\steamer_hitters_weekly_log.csv' to 'C:\\Users\\james\\Documents\\MLB\\Database\\A03. Steamer'.\n"
     ]
    }
   ],
   "source": [
    "# Download Steamer weekly logs and save them to csv\n",
    "download_logs()"
   ]
  },
  {
   "cell_type": "code",
   "execution_count": 16,
   "id": "6ce62e0e-e8f8-45d3-9c2e-bdda1a3a7e05",
   "metadata": {},
   "outputs": [
    {
     "data": {
      "text/plain": [
       "1322537"
      ]
     },
     "execution_count": 16,
     "metadata": {},
     "output_type": "execute_result"
    }
   ],
   "source": [
    "# Read in Steamer hitters \n",
    "steamer_hitters_df = pd.read_csv(os.path.join(baseball_path, \"A03. Steamer\", \"steamer_hitters_weekly_log.csv\"), encoding='iso-8859-1')\n",
    "# To database\n",
    "steamer_hitters_df.to_sql('Steamer Hitters', con=engine, index=False, if_exists='replace')\n",
    "\n",
    "# Read in Steamer pitchers\n",
    "steamer_pitchers_df = pd.read_csv(os.path.join(baseball_path, \"A03. Steamer\", \"steamer_pitchers_weekly_log.csv\"), encoding='iso-8859-1')\n",
    "# To database\n",
    "steamer_pitchers_df.to_sql('Steamer Pitchers', con=engine, index=False, if_exists='replace')"
   ]
  },
  {
   "cell_type": "code",
   "execution_count": null,
   "id": "7d829e64-c1ba-41c9-a026-c1356c62cf6b",
   "metadata": {},
   "outputs": [],
   "source": []
  },
  {
   "cell_type": "markdown",
   "id": "8ef9f8a5-c792-4240-8582-5237e6b025d9",
   "metadata": {},
   "source": [
    "# Below this point needs to be run prior to simulating, may be best moved elsewhere (Morning, Evening files)"
   ]
  },
  {
   "cell_type": "code",
   "execution_count": null,
   "id": "e34c68a6-c8ba-4011-bebd-536fbe7d54e3",
   "metadata": {},
   "outputs": [],
   "source": []
  },
  {
   "cell_type": "markdown",
   "id": "7432e4de-8888-4d62-8877-d2546d36f59d",
   "metadata": {},
   "source": [
    "### A04. Bullpens"
   ]
  },
  {
   "cell_type": "code",
   "execution_count": null,
   "id": "b529e04a-754d-4e68-af4d-c58b41de617b",
   "metadata": {},
   "outputs": [],
   "source": [
    "%run \"A04. Bullpens.ipynb\""
   ]
  },
  {
   "cell_type": "code",
   "execution_count": null,
   "id": "3e6f731b-e234-4c74-980a-5961b1b25567",
   "metadata": {},
   "outputs": [],
   "source": [
    "# Make it so you can do the past like with rosters\n",
    "\n",
    "# Create path\n",
    "if not os.path.exists(os.path.join(r'C:\\Users\\james\\Documents\\MLB\\Database\\A04. Bullpens', f\"Bullpens {todaysdate}\")):\n",
    "    os.makedirs(os.path.join(r'C:\\Users\\james\\Documents\\MLB\\Database\\A04. Bullpens', f\"Bullpens {todaysdate}\"))\n",
    "    time.sleep(1)\n",
    "else:\n",
    "    print(\"Already exists\")    \n",
    "    \n",
    "# Scrape bullpens\n",
    "team_map = pd.read_csv(os.path.join(baseball_path, \"Utilities\", \"Team Map.csv\"))\n",
    "for i in range(len(team_map)):\n",
    "    # Extract team's website URL\n",
    "    mlburl = team_map['MLBURL'][i]\n",
    "    # Extract team's Baseball Reference abbreviation\n",
    "    bbrefteam = team_map['BBREFTEAM'][i]\n",
    "    # Scrape bullpens\n",
    "    bullpen_df = scrape_bullpen(mlburl, header, bbrefteam, date=todaysdate)\n",
    "    # To csv\n",
    "    bullpen_df.to_csv(os.path.join(baseball_path, \"A04. Bullpens\", f\"Bullpens {todaysdate}\", f\"Bullpen {bbrefteam} {todaysdate}.csv\"), index=False, encoding='iso-8859-1')\n",
    "    # To database\n",
    "    bullpen_df.to_sql(f'Bullpen {bbrefteam} {todaysdate}', con=engine, index=False, if_exists='replace')"
   ]
  },
  {
   "cell_type": "markdown",
   "id": "bea70469-bfc9-4103-9402-050b71fc6e88",
   "metadata": {},
   "source": [
    "### A05. Rosters"
   ]
  },
  {
   "cell_type": "code",
   "execution_count": 16,
   "id": "3ec98cd4-1d8f-4fa7-a30b-343b37714cb9",
   "metadata": {},
   "outputs": [],
   "source": [
    "%run \"A05. Rosters.ipynb\""
   ]
  },
  {
   "cell_type": "markdown",
   "id": "864a45ed-fa1a-4fa9-a0da-cabd05923b6e",
   "metadata": {},
   "source": [
    "##### 1. Batting Orders"
   ]
  },
  {
   "cell_type": "code",
   "execution_count": null,
   "id": "51435076-7508-4689-997e-490e78b7193f",
   "metadata": {},
   "outputs": [],
   "source": [
    "# Read in today's games\n",
    "games = statsapi.schedule(start_date=todaysdate_slash, end_date=todaysdate_slash)\n",
    "\n",
    "# Create path\n",
    "if not os.path.exists(os.path.join(r'C:\\Users\\james\\Documents\\MLB\\Database\\A05. Rosters\\1. Batting Orders', f\"Batting Orders {todaysdate}\")):\n",
    "    os.makedirs(os.path.join(r'C:\\Users\\james\\Documents\\MLB\\Database\\A05. Rosters\\1. Batting Orders', f\"Batting Orders {todaysdate}\"))\n",
    "    time.sleep(1)\n",
    "else:\n",
    "    print(\"Already exists\")    \n",
    "\n",
    "# Scrape batting orders\n",
    "# Loop over games\n",
    "for game in games:\n",
    "    # Extract game ID\n",
    "    game_id = game['game_id']\n",
    "    # Extract team IDs\n",
    "    away_id = game['away_id']\n",
    "    home_id = game['home_id']\n",
    "    \n",
    "    # Scrape away team batting order\n",
    "    away_order_df = order(game_id, away_id, todaysdate, 'away')\n",
    "    away_team = team_map.loc[team_map['teamId'] == away_id, 'BBREFTEAM'].values[0]\n",
    "    # To csv\n",
    "    away_order_df.to_csv(os.path.join(baseball_path, \"A05. Rosters\", \"1. Batting Orders\", f\"Batting Orders {todaysdate}\", f\"Batting Order {away_team} {game_id}.csv\"), index=False, encoding='iso-8859-1')\n",
    "    # To database\n",
    "    away_order_df.to_sql(f'Batting Order {away_team} {game_id}', con=engine, index=False, if_exists='replace')\n",
    "    \n",
    "    # Scrape home team batting order\n",
    "    home_order_df = order(game_id, home_id, todaysdate, 'home')\n",
    "    home_team = team_map.loc[team_map['teamId'] == home_id, 'BBREFTEAM'].values[0]\n",
    "    # To csv\n",
    "    home_order_df.to_csv(os.path.join(baseball_path, \"A05. Rosters\", \"1. Batting Orders\", f\"Batting Orders {todaysdate}\", f\"Batting Order {home_team} {game_id}.csv\"), index=False, encoding='iso-8859-1')\n",
    "    # To database\n",
    "    home_order_df.to_sql(f'Batting Order {home_team} {game_id}', con=engine, index=False, if_exists='replace')"
   ]
  },
  {
   "cell_type": "markdown",
   "id": "2f22bb58-e0eb-43cd-a306-7f20fb96b56b",
   "metadata": {},
   "source": [
    "##### 2. Rosters"
   ]
  },
  {
   "cell_type": "code",
   "execution_count": 30,
   "id": "a186e8ee-7bb0-45ef-9218-d92e3ad5f192",
   "metadata": {},
   "outputs": [
    {
     "name": "stdout",
     "output_type": "stream",
     "text": [
      "20230928\n",
      "Already exists\n",
      "20230929\n",
      "Already exists\n",
      "20230930\n",
      "Already exists\n",
      "20231001\n",
      "Already exists\n",
      "20231002\n",
      "Already exists\n",
      "20231003\n",
      "Already exists\n",
      "20231004\n",
      "20231005\n",
      "Already exists\n",
      "20231006\n",
      "20231007\n",
      "Already exists\n",
      "20231008\n",
      "Already exists\n",
      "20231009\n",
      "Already exists\n",
      "20231010\n",
      "Already exists\n",
      "20231011\n",
      "Already exists\n",
      "20231012\n",
      "20231013\n",
      "Already exists\n",
      "20231014\n",
      "Already exists\n",
      "20231015\n",
      "20231016\n",
      "Already exists\n",
      "20231017\n",
      "Already exists\n",
      "20231018\n",
      "20231019\n",
      "Already exists\n",
      "20231020\n",
      "Already exists\n",
      "20231021\n",
      "20231022\n",
      "Already exists\n",
      "20231023\n",
      "20231024\n",
      "20231025\n",
      "20231026\n",
      "20231027\n",
      "20231028\n",
      "20231029\n",
      "20231030\n",
      "Already exists\n",
      "20231031\n",
      "20231101\n",
      "Already exists\n"
     ]
    }
   ],
   "source": [
    "# Scrape rosters\n",
    "team_map = pd.read_csv(os.path.join(baseball_path, \"Utilities\", \"Team Map.csv\"))\n",
    "\n",
    "# from datetime import datetime, timedelta\n",
    "\n",
    "# Set dates\n",
    "start_date_str = \"20230928\"\n",
    "end_date_str = \"20231101\"\n",
    "\n",
    "# Convert to datetime \n",
    "start_date = datetime.strptime(start_date_str, \"%Y%m%d\")\n",
    "end_date = datetime.strptime(end_date_str, \"%Y%m%d\")\n",
    "\n",
    "# Start with start date\n",
    "current_date = start_date\n",
    "\n",
    "# Loop over dates\n",
    "while current_date <= end_date:\n",
    "    # Create date string\n",
    "    formatted_date_str = current_date.strftime(\"%Y%m%d\")\n",
    "    print(formatted_date_str)\n",
    "    current_date += timedelta(days=1)\n",
    "    \n",
    "    # Create path (if it doesn't exist)\n",
    "    if not os.path.exists(os.path.join(r'C:\\Users\\james\\Documents\\MLB\\Database\\A05. Rosters\\2. Rosters', f\"Rosters {formatted_date_str}\")):\n",
    "        os.makedirs(os.path.join(r'C:\\Users\\james\\Documents\\MLB\\Database\\A05. Rosters\\2. Rosters', f\"Rosters {formatted_date_str}\"))\n",
    "        time.sleep(1)\n",
    "    else:\n",
    "        print(\"Already exists\")    \n",
    "\n",
    "    \n",
    "    # Loop over teams\n",
    "    for i in range(len(team_map)):\n",
    "        # Extract teamId\n",
    "        teamId = team_map['teamId'][i]\n",
    "        # Extrct team's Baseball Reference abbreviation\n",
    "        bbrefteam = team_map['BBREFTEAM'][i]\n",
    "        # Scrape rosters\n",
    "        roster_df = roster(teamId, formatted_date_str)\n",
    "        # To csv\n",
    "        roster_df.to_csv(os.path.join(baseball_path, \"A05. Rosters\", \"2. Rosters\", f\"Rosters {formatted_date_str}\", f\"Roster {bbrefteam} {formatted_date_str}.csv\"), index=False, encoding='iso-8859-1')\n",
    "        # To database\n",
    "        roster_df.to_sql(f'Roster {bbrefteam} {formatted_date_str}', con=engine, index=False, if_exists='replace')"
   ]
  },
  {
   "cell_type": "code",
   "execution_count": null,
   "id": "95da8f12-b152-445f-ae56-82034fed415b",
   "metadata": {},
   "outputs": [],
   "source": []
  },
  {
   "cell_type": "markdown",
   "id": "b8f09bb7-5cc1-4ac4-9df2-e0a01837d8f3",
   "metadata": {},
   "source": [
    "### A06. Weather"
   ]
  },
  {
   "cell_type": "code",
   "execution_count": null,
   "id": "fcfc397c-0dfe-43f7-9032-44189fd8b194",
   "metadata": {},
   "outputs": [],
   "source": [
    "%run \"A06. Weather.ipynb\""
   ]
  },
  {
   "cell_type": "markdown",
   "id": "49c4006d-ef7e-48f1-aea2-ea0302a38df8",
   "metadata": {},
   "source": [
    "##### 1. Swish Analytics"
   ]
  },
  {
   "cell_type": "code",
   "execution_count": null,
   "id": "b9ccc1bf-f4fe-49cf-b52b-0ffdf5258cdf",
   "metadata": {},
   "outputs": [],
   "source": [
    "# Scrape Swish Analytics\n",
    "swishanalytics_df = swishanalytics(todaysdate)\n",
    "# To csv\n",
    "swishanalytics_df.to_csv(os.path.join(baseball_path, \"A06. Weather\", \"1. Swish Analytics\", f\"Swish Analytics {todaysdate}.csv\"), index=False)\n",
    "# To database\n",
    "swishanalytics_df.to_sql(f'Swish Analytics {todaysdate}', con=engine, index=False, if_exists='replace')"
   ]
  },
  {
   "cell_type": "markdown",
   "id": "4478f530-44b6-4bdb-b244-2c5f941dc707",
   "metadata": {},
   "source": [
    "##### 2. RotoGrinders"
   ]
  },
  {
   "cell_type": "code",
   "execution_count": null,
   "id": "f5a501ab-2dfe-4b6f-b58c-8b88b099a7d7",
   "metadata": {},
   "outputs": [],
   "source": [
    "# Scrape RotoGrinders\n",
    "rotogrinders_df = rotogrinders(todaysdate)\n",
    "# To csv\n",
    "rotogrinders_df.to_csv(os.path.join(baseball_path, \"A06. Weather\", \"2. RotoGrinders\", f\"RotoGrinders {todaysdate}.csv\"), index=False)\n",
    "# To database\n",
    "rotogrinders_df.to_sql(f'RotoGrinders {todaysdate}', con=engine, index=False, if_exists='replace')"
   ]
  },
  {
   "cell_type": "markdown",
   "id": "37befcfb-bc6d-4ba9-ac91-3eb72d27b73c",
   "metadata": {},
   "source": [
    "##### 3. Ballpark Pal"
   ]
  },
  {
   "cell_type": "code",
   "execution_count": null,
   "id": "4565f8c9-5abf-477e-92e1-13890ed8ab3e",
   "metadata": {},
   "outputs": [],
   "source": [
    "# Scrape Ballpark Pal\n",
    "ballparkpal_df = ballparkpal(todaysdate)\n",
    "# To csv\n",
    "ballparkpal_df.to_csv(os.path.join(baseball_path, \"A06. Weather\", \"3. Ballpark Pal\", f\"Ballpark Pal {todaysdate}.csv\"), index=False)\n",
    "# To database\n",
    "ballparkpal_df.to_sql(f'Ballpark Pal {todaysdate}', con=engine, index=False, if_exists='replace')"
   ]
  },
  {
   "cell_type": "code",
   "execution_count": null,
   "id": "01454866-89b0-444c-94a5-f25c17d94e64",
   "metadata": {},
   "outputs": [],
   "source": []
  },
  {
   "cell_type": "markdown",
   "id": "b5f9fc78-e7cf-4c33-ad32-945fc9ec7147",
   "metadata": {},
   "source": [
    "### A07. Projections"
   ]
  },
  {
   "cell_type": "code",
   "execution_count": null,
   "id": "54e7f5ea-c6be-42aa-a553-57c8dca578ce",
   "metadata": {},
   "outputs": [],
   "source": [
    "%run \"A07. Projections.ipynb\""
   ]
  },
  {
   "cell_type": "markdown",
   "id": "ac814af4-c8e9-4269-902c-ec4cc437a1f2",
   "metadata": {},
   "source": [
    "##### 1. DFF"
   ]
  },
  {
   "cell_type": "code",
   "execution_count": null,
   "id": "c96e86e3-37a5-4e42-a6ce-a5e1a46e4b3e",
   "metadata": {},
   "outputs": [],
   "source": [
    "# Scrape slates\n",
    "dff_slates_df = dff_slates(todaysdate)\n",
    "# To csv\n",
    "dff_slates_df.to_csv(os.path.join(baseball_path, \"A07. Projections\", \"1. DFF\", \"1. Slates\", f\"DFF Slates {todaysdate}.csv\"), index=False)\n",
    "# To database\n",
    "dff_slates_df.to_sql(f'DFF Slates {todaysdate}', con=engine, index=False, if_exists='replace')"
   ]
  },
  {
   "cell_type": "code",
   "execution_count": null,
   "id": "063c5990-c0c1-4440-9d53-a3f96ea796a5",
   "metadata": {},
   "outputs": [],
   "source": [
    "# Loop over slates\n",
    "for code in dff_slates_df['URL']:\n",
    "    # Scrape projections\n",
    "    dff_projections_df = dff_projections(todaysdate, code)\n",
    "    # To csv\n",
    "    dff_projections_df.to_csv(os.path.join(baseball_path, \"A07. Projections\", \"1. DFF\", \"2. Projections\", f\"DFF Projections {code}.csv\"), index=False)\n",
    "    # To database\n",
    "    dff_projections_df.to_sql(f'DFF Projections {code}', con=engine, index=False, if_exists='replace')"
   ]
  },
  {
   "cell_type": "markdown",
   "id": "ef9c74cc-f3e2-4a30-9abc-d0250e10fa63",
   "metadata": {},
   "source": [
    "##### 2. RotoWire"
   ]
  },
  {
   "cell_type": "code",
   "execution_count": null,
   "id": "b8e98d6a-8d1f-4eb8-a459-473311eb4542",
   "metadata": {},
   "outputs": [],
   "source": [
    "# Scrape slates\n",
    "roto_slates_df = roto_slates(todaysdate)\n",
    "# To csv\n",
    "roto_slates_df.to_csv(os.path.join(baseball_path, \"A07. Projections\", \"2. RotoWire\", \"1. Slates\", f\"RotoWire Slates {todaysdate}.csv\"), index=False)\n",
    "# To database\n",
    "roto_slates_df.to_sql(f'RotoWire Slates {todaysdate}', con=engine, index=False, if_exists='replace')"
   ]
  },
  {
   "cell_type": "code",
   "execution_count": null,
   "id": "ae8fe6a2-72a7-42a2-87cd-6a06097f296a",
   "metadata": {},
   "outputs": [],
   "source": [
    "# Loop over slates\n",
    "for code in roto_slates_df['slateID']:\n",
    "    # Scrape projections\n",
    "    roto_projections_df = roto_projections(todaysdate, code)\n",
    "    # To csv\n",
    "    roto_projections_df.to_csv(os.path.join(baseball_path, \"A07. Projections\", \"2. RotoWire\", \"2. Projections\", f\"RotoWire Projections {code}.csv\"), index=False)\n",
    "    # To database\n",
    "    roto_projections_df.to_sql(f'RotoWire Projections {code}', con=engine, index=False, if_exists='replace')    "
   ]
  },
  {
   "cell_type": "code",
   "execution_count": null,
   "id": "0d270752-7cfa-4c31-9773-d019ac96c1e4",
   "metadata": {},
   "outputs": [],
   "source": []
  },
  {
   "cell_type": "markdown",
   "id": "d6391877-3b0a-4091-b7f8-6171aca2f952",
   "metadata": {},
   "source": [
    "### A08. Odds"
   ]
  },
  {
   "cell_type": "code",
   "execution_count": null,
   "id": "12fbc00f-619f-4a44-a290-b86f2ba2d773",
   "metadata": {},
   "outputs": [],
   "source": [
    "%run \"A08. Odds.ipynb\""
   ]
  },
  {
   "cell_type": "code",
   "execution_count": null,
   "id": "2939d7ed-70e2-4d7a-a31f-0415f9e531bf",
   "metadata": {},
   "outputs": [],
   "source": [
    "# Scrape odds\n",
    "odds_df = odds(todaysdate)\n",
    "# To csv\n",
    "odds_df.to_csv(os.path.join(baseball_path, \"A08. Odds\", f\"Odds {todaysdate}.csv\"), index=False)\n",
    "# To database\n",
    "odds_df.to_sql(f'Odds {todaysdate}', con=engine, index=False, if_exists='replace')    "
   ]
  },
  {
   "cell_type": "code",
   "execution_count": null,
   "id": "4a17aafc-5a33-42f0-8240-a3be236e8a7d",
   "metadata": {},
   "outputs": [],
   "source": []
  },
  {
   "cell_type": "code",
   "execution_count": null,
   "id": "5bc2624f-b20a-456f-b503-c9fbe0d3fe23",
   "metadata": {},
   "outputs": [],
   "source": [
    "# One time"
   ]
  },
  {
   "cell_type": "code",
   "execution_count": null,
   "id": "2308cc13-8ce5-44d4-b675-0b0ea1142445",
   "metadata": {},
   "outputs": [],
   "source": [
    "# # Read in park factors\n",
    "# park_factors_l = pd.read_excel(r\"C:\\Users\\james\\Documents\\MLB\\Database\\Utilities\\Statcast Park Factors.xlsx\", sheet_name='L')\n",
    "# park_factors_l['batSide'] = \"L\"\n",
    "# park_factors_r = pd.read_excel(r\"C:\\Users\\james\\Documents\\MLB\\Database\\Utilities\\Statcast Park Factors.xlsx\", sheet_name='R')\n",
    "# park_factors_r['batSide'] = \"R\"\n",
    "\n",
    "# park_factors = pd.concat([park_factors_l, park_factors_r], axis=0)\n",
    "\n",
    "# park_factors.to_sql(f'Statcast Park Factors', con=engine, index=False, if_exists='replace')    "
   ]
  },
  {
   "cell_type": "code",
   "execution_count": null,
   "id": "d8541940-24c7-4008-ae56-1314109973c9",
   "metadata": {},
   "outputs": [],
   "source": [
    "# # Team map\n",
    "# team_map = pd.read_csv(r\"C:\\Users\\james\\Documents\\MLB\\Database\\Utilities\\Team Map.csv\")\n",
    "# team_map.to_sql('Team Map', con=engine, index=False, if_exists='replace')"
   ]
  },
  {
   "cell_type": "code",
   "execution_count": null,
   "id": "673adb32-6ebd-4f22-8fc2-c54f28385cb5",
   "metadata": {},
   "outputs": [],
   "source": []
  }
 ],
 "metadata": {
  "kernelspec": {
   "display_name": "Python 3 (ipykernel)",
   "language": "python",
   "name": "python3"
  },
  "language_info": {
   "codemirror_mode": {
    "name": "ipython",
    "version": 3
   },
   "file_extension": ".py",
   "mimetype": "text/x-python",
   "name": "python",
   "nbconvert_exporter": "python",
   "pygments_lexer": "ipython3",
   "version": "3.9.12"
  }
 },
 "nbformat": 4,
 "nbformat_minor": 5
}
