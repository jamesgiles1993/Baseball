{
 "cells": [
  {
   "cell_type": "markdown",
   "id": "83b0fc71-e5dc-44eb-a733-a4463e10c887",
   "metadata": {},
   "source": [
    "# A05. Rosters\n",
    "Sources: \n",
    "- MLB Stats API"
   ]
  },
  {
   "cell_type": "markdown",
   "id": "cf8336ab-64a8-4c7d-8f14-16fe6707d706",
   "metadata": {},
   "source": [
    "##### 1. Batting Orders"
   ]
  },
  {
   "cell_type": "code",
   "execution_count": 45,
   "id": "708302d0-a09f-40a3-999d-4fe7c70e6dbd",
   "metadata": {},
   "outputs": [],
   "source": [
    "# # Creates box score variables (consider consolidating with Stats API, it might be possible to read this in once instead of twice)\n",
    "# def create_box(gamePk):\n",
    "#     # Read in boxscore as json\n",
    "#     box = pd.json_normalize(statsapi.boxscore_data(gamePk, timecode=None), record_path='gameBoxInfo')\n",
    "#     # Take value where label = variable of interest\n",
    "#     try:\n",
    "#         weather = box.loc[box['label']==\"Weather\", \"value\"].item() \n",
    "#     except:\n",
    "#         weather = \"75 degrees, Clear.\"\n",
    "#     try:\n",
    "#         wind = box.loc[box['label']==\"Wind\", \"value\"].item()\n",
    "#     except:\n",
    "#         wind = \"0 mph, L To R.\"\n",
    "\n",
    "#     # Create dataframe\n",
    "#     df = pd.DataFrame({'gamePK': [gamePk], 'weather': [weather], 'wind': [wind]})\n",
    "        \n",
    "#     return df"
   ]
  },
  {
   "cell_type": "code",
   "execution_count": 18,
   "id": "efe3e9b2-2de3-4252-a01c-efb85f9d3c97",
   "metadata": {},
   "outputs": [],
   "source": [
    "# Creates dataframe of players and their spot in the batting order\n",
    "def order(gamePk, teamId, date, team=\"away\"):\n",
    "    list_of_lists = []\n",
    "    players = statsapi.get(\"game\", {\"gamePk\": gamePk})['liveData']['boxscore']['teams'][team]['players']\n",
    "    for player in players:\n",
    "        id = players[player]['person']['id']\n",
    "        fullName = players[player]['person']['fullName']\n",
    "        position = players[player]['position']['name']\n",
    "        status = players[player]['status']['description']\n",
    "        try:\n",
    "            order = statsapi.get(\"game\", {\"gamePk\": gamePk})['liveData']['boxscore']['teams'][team]['players'][player]['battingOrder']\n",
    "        except:\n",
    "            order = np.nan\n",
    "    \n",
    "        return_list = [id, fullName, position, status, order]\n",
    "        list_of_lists.append(return_list)\n",
    "    \n",
    "    # Create dataframe\n",
    "    df = pd.DataFrame(list_of_lists, columns=['id', 'fullName', 'position', 'status', 'order'])\n",
    "        \n",
    "    # Game ID\n",
    "    df['gamePk'] = gamePk\n",
    "    # Date\n",
    "    df['date'] = date\n",
    "    # Team ID #\n",
    "    df['teamId'] = teamId\n",
    "        \n",
    "    return df"
   ]
  },
  {
   "cell_type": "code",
   "execution_count": null,
   "id": "666fb5aa-faf6-4c15-b1f1-b2ff5754ae15",
   "metadata": {},
   "outputs": [],
   "source": []
  },
  {
   "cell_type": "markdown",
   "id": "8830b5f7-101f-4c7c-9c1a-dda23737a82a",
   "metadata": {},
   "source": [
    "##### 2. Rosters"
   ]
  },
  {
   "cell_type": "code",
   "execution_count": 1,
   "id": "e7aafae3-a901-4ddc-85a5-7c8c57eef9d2",
   "metadata": {},
   "outputs": [],
   "source": [
    "# Creates a roster\n",
    "def roster(teamId, date):\n",
    "    # Reformat date to fit function\n",
    "    date_dash = f\"{date[:4]}-{date[4:6]}-{date[6:8]}\"\n",
    "\n",
    "    roster = statsapi.get(\"team_roster\", {\"teamId\": teamId, \"rosterType\": \"40Man\", \"date\": date_dash, \"hydrate\": \"person\"})['roster']\n",
    "\n",
    "    # Initialize empty lists to store the extracted values\n",
    "    id_list = []\n",
    "    full_name_list = []\n",
    "    first_name_list = []\n",
    "    last_name_list = []\n",
    "    position_list = []\n",
    "    bat_side_list = []\n",
    "    pitch_hand_list = []\n",
    "\n",
    "    # Iterate over the roster data\n",
    "    for player in roster:\n",
    "        # Extract the values using .get() method and fill missing values with \"Missing\"\n",
    "        id_list.append(player['person'].get('id', 'Missing'))\n",
    "        full_name_list.append(player['person'].get('fullName', 'Missing'))\n",
    "        first_name_list.append(player['person'].get('firstName', 'Missing'))\n",
    "        last_name_list.append(player['person'].get('lastName', 'Missing'))\n",
    "        position_list.append(player['position'].get('name', 'Missing'))\n",
    "        bat_side_list.append(player['person'].get('batSide', {}).get('description', 'Missing'))\n",
    "        pitch_hand_list.append(player['person'].get('pitchHand', {}).get('description', 'Missing'))\n",
    "\n",
    "    # Create the dataframe\n",
    "    df = pd.DataFrame({\n",
    "        'id': id_list,\n",
    "        'fullName': full_name_list,\n",
    "        'firstName': first_name_list,\n",
    "        'lastName': last_name_list,\n",
    "        'position': position_list,\n",
    "        'batSide': bat_side_list,\n",
    "        'pitchHand': pitch_hand_list\n",
    "    })\n",
    "\n",
    "    date = date.replace(\"-\", \"\")\n",
    "    \n",
    "    # Date\n",
    "    df['date'] = date\n",
    "    # Team ID #\n",
    "    df['teamId'] = teamId\n",
    "    \n",
    "    return df"
   ]
  },
  {
   "cell_type": "code",
   "execution_count": null,
   "id": "c0f427e8-4ee7-465c-a552-3e710717277d",
   "metadata": {},
   "outputs": [],
   "source": []
  }
 ],
 "metadata": {
  "kernelspec": {
   "display_name": "Python 3 (ipykernel)",
   "language": "python",
   "name": "python3"
  },
  "language_info": {
   "codemirror_mode": {
    "name": "ipython",
    "version": 3
   },
   "file_extension": ".py",
   "mimetype": "text/x-python",
   "name": "python",
   "nbconvert_exporter": "python",
   "pygments_lexer": "ipython3",
   "version": "3.9.12"
  }
 },
 "nbformat": 4,
 "nbformat_minor": 5
}
